{
 "cells": [
  {
   "cell_type": "code",
   "execution_count": 1,
   "metadata": {},
   "outputs": [],
   "source": [
    "import pandas as pd"
   ]
  },
  {
   "cell_type": "markdown",
   "metadata": {},
   "source": [
    "## Upload the data as a data frame"
   ]
  },
  {
   "cell_type": "code",
   "execution_count": 2,
   "metadata": {},
   "outputs": [
    {
     "data": {
      "text/html": [
       "<div>\n",
       "<style scoped>\n",
       "    .dataframe tbody tr th:only-of-type {\n",
       "        vertical-align: middle;\n",
       "    }\n",
       "\n",
       "    .dataframe tbody tr th {\n",
       "        vertical-align: top;\n",
       "    }\n",
       "\n",
       "    .dataframe thead th {\n",
       "        text-align: right;\n",
       "    }\n",
       "</style>\n",
       "<table border=\"1\" class=\"dataframe\">\n",
       "  <thead>\n",
       "    <tr style=\"text-align: right;\">\n",
       "      <th></th>\n",
       "      <th>direction</th>\n",
       "      <th>origin</th>\n",
       "      <th>destination</th>\n",
       "      <th>year</th>\n",
       "      <th>date</th>\n",
       "      <th>product</th>\n",
       "      <th>transport_mode</th>\n",
       "      <th>company_name</th>\n",
       "      <th>total_value</th>\n",
       "    </tr>\n",
       "  </thead>\n",
       "  <tbody>\n",
       "    <tr>\n",
       "      <th>0</th>\n",
       "      <td>Exports</td>\n",
       "      <td>Japan</td>\n",
       "      <td>China</td>\n",
       "      <td>2015</td>\n",
       "      <td>31/01/15</td>\n",
       "      <td>Cars</td>\n",
       "      <td>Sea</td>\n",
       "      <td>Honda</td>\n",
       "      <td>33000000</td>\n",
       "    </tr>\n",
       "    <tr>\n",
       "      <th>1</th>\n",
       "      <td>Exports</td>\n",
       "      <td>Japan</td>\n",
       "      <td>China</td>\n",
       "      <td>2015</td>\n",
       "      <td>01/02/15</td>\n",
       "      <td>Cars</td>\n",
       "      <td>Sea</td>\n",
       "      <td>Honda</td>\n",
       "      <td>16000000</td>\n",
       "    </tr>\n",
       "    <tr>\n",
       "      <th>2</th>\n",
       "      <td>Exports</td>\n",
       "      <td>Japan</td>\n",
       "      <td>China</td>\n",
       "      <td>2015</td>\n",
       "      <td>02/02/15</td>\n",
       "      <td>Cars</td>\n",
       "      <td>Sea</td>\n",
       "      <td>Honda</td>\n",
       "      <td>29000000</td>\n",
       "    </tr>\n",
       "    <tr>\n",
       "      <th>3</th>\n",
       "      <td>Exports</td>\n",
       "      <td>Japan</td>\n",
       "      <td>China</td>\n",
       "      <td>2015</td>\n",
       "      <td>03/02/15</td>\n",
       "      <td>Cars</td>\n",
       "      <td>Sea</td>\n",
       "      <td>Honda</td>\n",
       "      <td>14000000</td>\n",
       "    </tr>\n",
       "    <tr>\n",
       "      <th>4</th>\n",
       "      <td>Exports</td>\n",
       "      <td>Japan</td>\n",
       "      <td>China</td>\n",
       "      <td>2015</td>\n",
       "      <td>04/02/15</td>\n",
       "      <td>Cars</td>\n",
       "      <td>Sea</td>\n",
       "      <td>Honda</td>\n",
       "      <td>17000000</td>\n",
       "    </tr>\n",
       "    <tr>\n",
       "      <th>...</th>\n",
       "      <td>...</td>\n",
       "      <td>...</td>\n",
       "      <td>...</td>\n",
       "      <td>...</td>\n",
       "      <td>...</td>\n",
       "      <td>...</td>\n",
       "      <td>...</td>\n",
       "      <td>...</td>\n",
       "      <td>...</td>\n",
       "    </tr>\n",
       "    <tr>\n",
       "      <th>19051</th>\n",
       "      <td>Imports</td>\n",
       "      <td>Japan</td>\n",
       "      <td>Singapore</td>\n",
       "      <td>2020</td>\n",
       "      <td>27/06/20</td>\n",
       "      <td>Gas turbines</td>\n",
       "      <td>Sea</td>\n",
       "      <td>Union Energy Co</td>\n",
       "      <td>1000000</td>\n",
       "    </tr>\n",
       "    <tr>\n",
       "      <th>19052</th>\n",
       "      <td>Imports</td>\n",
       "      <td>Malaysia</td>\n",
       "      <td>Singapore</td>\n",
       "      <td>2020</td>\n",
       "      <td>28/06/20</td>\n",
       "      <td>Gas turbines</td>\n",
       "      <td>Sea</td>\n",
       "      <td>Union Energy Co</td>\n",
       "      <td>2000000</td>\n",
       "    </tr>\n",
       "    <tr>\n",
       "      <th>19053</th>\n",
       "      <td>Imports</td>\n",
       "      <td>Malaysia</td>\n",
       "      <td>Singapore</td>\n",
       "      <td>2020</td>\n",
       "      <td>29/06/20</td>\n",
       "      <td>Gas turbines</td>\n",
       "      <td>Sea</td>\n",
       "      <td>Union Energy Co</td>\n",
       "      <td>33000000</td>\n",
       "    </tr>\n",
       "    <tr>\n",
       "      <th>19054</th>\n",
       "      <td>Imports</td>\n",
       "      <td>Malaysia</td>\n",
       "      <td>Singapore</td>\n",
       "      <td>2020</td>\n",
       "      <td>30/06/20</td>\n",
       "      <td>Gas turbines</td>\n",
       "      <td>Sea</td>\n",
       "      <td>Union Energy Co</td>\n",
       "      <td>13000000</td>\n",
       "    </tr>\n",
       "    <tr>\n",
       "      <th>19055</th>\n",
       "      <td>Imports</td>\n",
       "      <td>Malaysia</td>\n",
       "      <td>Singapore</td>\n",
       "      <td>2020</td>\n",
       "      <td>01/07/20</td>\n",
       "      <td>Gas turbines</td>\n",
       "      <td>Sea</td>\n",
       "      <td>Union Energy Co</td>\n",
       "      <td>30000000</td>\n",
       "    </tr>\n",
       "  </tbody>\n",
       "</table>\n",
       "<p>19056 rows × 9 columns</p>\n",
       "</div>"
      ],
      "text/plain": [
       "      direction    origin destination  year      date       product  \\\n",
       "0       Exports     Japan       China  2015  31/01/15          Cars   \n",
       "1       Exports     Japan       China  2015  01/02/15          Cars   \n",
       "2       Exports     Japan       China  2015  02/02/15          Cars   \n",
       "3       Exports     Japan       China  2015  03/02/15          Cars   \n",
       "4       Exports     Japan       China  2015  04/02/15          Cars   \n",
       "...         ...       ...         ...   ...       ...           ...   \n",
       "19051   Imports     Japan   Singapore  2020  27/06/20  Gas turbines   \n",
       "19052   Imports  Malaysia   Singapore  2020  28/06/20  Gas turbines   \n",
       "19053   Imports  Malaysia   Singapore  2020  29/06/20  Gas turbines   \n",
       "19054   Imports  Malaysia   Singapore  2020  30/06/20  Gas turbines   \n",
       "19055   Imports  Malaysia   Singapore  2020  01/07/20  Gas turbines   \n",
       "\n",
       "      transport_mode     company_name  total_value  \n",
       "0                Sea            Honda     33000000  \n",
       "1                Sea            Honda     16000000  \n",
       "2                Sea            Honda     29000000  \n",
       "3                Sea            Honda     14000000  \n",
       "4                Sea            Honda     17000000  \n",
       "...              ...              ...          ...  \n",
       "19051            Sea  Union Energy Co      1000000  \n",
       "19052            Sea  Union Energy Co      2000000  \n",
       "19053            Sea  Union Energy Co     33000000  \n",
       "19054            Sea  Union Energy Co     13000000  \n",
       "19055            Sea  Union Energy Co     30000000  \n",
       "\n",
       "[19056 rows x 9 columns]"
      ]
     },
     "execution_count": 2,
     "metadata": {},
     "output_type": "execute_result"
    }
   ],
   "source": [
    "synergy_logistics_info_df = pd.read_csv('synergy_logistics_database.csv', usecols = lambda x: x != 'register_id')\n",
    "synergy_logistics_info_df"
   ]
  },
  {
   "cell_type": "markdown",
   "metadata": {
    "pycharm": {
     "name": "#%%\n"
    }
   },
   "source": [
    "# Option 1 .- Import and Export routes\n",
    "## Obtain the 10 most used routes"
   ]
  },
  {
   "cell_type": "code",
   "execution_count": 3,
   "metadata": {},
   "outputs": [],
   "source": [
    "option_1_df =  synergy_logistics_info_df.copy()\n",
    "option_1_df.drop(columns = ['product', 'transport_mode', 'date', 'company_name'], inplace=True)\n",
    "\n",
    "# divide in two df, one for imports and the other for exports\n",
    "option_1_df_exports = option_1_df[option_1_df['direction'] == 'Exports']\n",
    "option_1_df_imports = option_1_df[option_1_df['direction'] == 'Imports']\n",
    "\n",
    "def get_routes(dataframe):\n",
    "    '''\n",
    "\n",
    "    '''\n",
    "    # Get the yearly sum of the sales per route\n",
    "    dataframe = dataframe.drop(columns='direction')\n",
    "    dataframe = dataframe.groupby(['origin', 'destination', 'year'], sort=False).agg(\n",
    "        total_value=pd.NamedAgg(column='total_value', aggfunc='sum'),\n",
    "        total_sales=pd.NamedAgg(column='total_value', aggfunc='count'))\n",
    "\n",
    "    # Get the mean total_value per route\n",
    "    dataframe = dataframe.reset_index().drop(columns='year')\n",
    "    dataframe = dataframe.groupby(['origin', 'destination'], sort=False).agg(\n",
    "        avg_total_value=pd.NamedAgg(column='total_value', aggfunc='mean'),\n",
    "        total_sales=pd.NamedAgg(column='total_sales', aggfunc='sum'))\n",
    "    dataframe = dataframe.reset_index()\n",
    "\n",
    "    return dataframe\n",
    "\n",
    "def sort_routes_by_index(dataframe):\n",
    "    \"\"\"\n",
    "\n",
    "    \"\"\"\n",
    "    # We need to normalize using feature scaling the avg_total_value and total_sales,\n",
    "    # add them together by using a weighted average and sort them in descending order\n",
    "\n",
    "    # Get the min and max values of each column\n",
    "    max_avg_total_value = dataframe['avg_total_value'].max()\n",
    "    max_total_sales = dataframe['total_sales'].max()\n",
    "    min_avg_total_value = dataframe['avg_total_value'].min()\n",
    "    min_total_sales = dataframe['total_sales'].min()\n",
    "\n",
    "    # Use this statistics to normalize and create an index to sort the routes\n",
    "    scaled_avg_total_value = (dataframe['avg_total_value'] - min_avg_total_value) / (\n",
    "                max_avg_total_value - min_avg_total_value)\n",
    "    scaled_total_sales = (dataframe['total_sales'] - min_total_sales) / (max_total_sales - min_total_sales)\n",
    "\n",
    "    # We perform an arithmetic mean to get the index\n",
    "    dataframe['index'] = (scaled_avg_total_value + scaled_total_sales) / 2\n",
    "\n",
    "    dataframe = dataframe.sort_values(by='index', ascending=False)\n",
    "\n",
    "    return dataframe"
   ]
  },
  {
   "cell_type": "code",
   "execution_count": 4,
   "metadata": {
    "pycharm": {
     "name": "#%%\n"
    }
   },
   "outputs": [
    {
     "name": "stdout",
     "output_type": "stream",
     "text": [
      "         origin  destination  avg_total_value  total_sales     index\n",
      "1         China       Mexico     4.083333e+09          330  0.829592\n",
      "2   South Korea      Vietnam     1.719252e+09          497  0.710520\n",
      "3   Netherlands      Belgium     8.095355e+08          437  0.537902\n",
      "4           USA  Netherlands     2.580468e+08          436  0.469352\n",
      "5        Canada       Mexico     1.690000e+09          261  0.466122\n",
      "6   South Korea        Japan     1.531333e+09          279  0.465061\n",
      "7        France      Belgium     1.846023e+09          223  0.446451\n",
      "8           USA       Canada     2.412000e+09          136  0.426979\n",
      "9         Japan       Brazil     8.420388e+08          306  0.408208\n",
      "10      Germany        Italy     2.270500e+09          130  0.403530\n",
      "\n",
      "\n",
      "       origin           destination  avg_total_value  total_sales     index\n",
      "1   Singapore              Thailand     1.004250e+09          273  0.944990\n",
      "2       China              Thailand     9.577500e+08          200  0.787011\n",
      "3       Japan                Mexico     7.836000e+08          206  0.714678\n",
      "4       China  United Arab Emirates     1.119000e+09          114  0.704461\n",
      "5       China                 Japan     6.474000e+08          210  0.656821\n",
      "6    Malaysia              Thailand     6.964000e+08          195  0.652430\n",
      "7       Japan  United Arab Emirates     1.119000e+09           76  0.633829\n",
      "8   Australia                 Japan     9.200000e+08          102  0.586758\n",
      "9      Mexico                   USA     7.883333e+08          122  0.560814\n",
      "10    Germany                 China     3.320000e+08          233  0.548373\n"
     ]
    }
   ],
   "source": [
    "option_1_df_exports = get_routes(option_1_df_exports)\n",
    "option_1_df_imports = get_routes(option_1_df_imports)\n",
    "\n",
    "option_1_df_exports = sort_routes_by_index(option_1_df_exports)\n",
    "option_1_df_imports = sort_routes_by_index(option_1_df_imports)\n",
    "\n",
    "option_1_df_exports = sort_routes_by_index(option_1_df_exports).reset_index(drop=True)\n",
    "option_1_df_imports = sort_routes_by_index(option_1_df_imports).reset_index(drop=True)\n",
    "\n",
    "option_1_df_exports.index = option_1_df_exports.index + 1\n",
    "option_1_df_imports.index = option_1_df_imports.index + 1\n",
    "\n",
    "print(option_1_df_exports[:10])\n",
    "print('\\n')\n",
    "print(option_1_df_imports[:10])"
   ]
  },
  {
   "cell_type": "markdown",
   "metadata": {},
   "source": [
    "# Option 2 .- Transportation means\n",
    "## Obtain the income per route and tell which one generates the least"
   ]
  },
  {
   "cell_type": "code",
   "execution_count": 63,
   "metadata": {},
   "outputs": [
    {
     "data": {
      "text/plain": "                          total_value\ntransport_mode direction             \nSea            Exports    65592622000\n               Imports    34938000000\nRail           Exports    34505043000\nAir            Exports    32785147000\nRoad           Exports    27280486000\nRail           Imports     9123000000\nRoad           Imports     5990000000\nAir            Imports     5477000000",
      "text/html": "<div>\n<style scoped>\n    .dataframe tbody tr th:only-of-type {\n        vertical-align: middle;\n    }\n\n    .dataframe tbody tr th {\n        vertical-align: top;\n    }\n\n    .dataframe thead th {\n        text-align: right;\n    }\n</style>\n<table border=\"1\" class=\"dataframe\">\n  <thead>\n    <tr style=\"text-align: right;\">\n      <th></th>\n      <th></th>\n      <th>total_value</th>\n    </tr>\n    <tr>\n      <th>transport_mode</th>\n      <th>direction</th>\n      <th></th>\n    </tr>\n  </thead>\n  <tbody>\n    <tr>\n      <th rowspan=\"2\" valign=\"top\">Sea</th>\n      <th>Exports</th>\n      <td>65592622000</td>\n    </tr>\n    <tr>\n      <th>Imports</th>\n      <td>34938000000</td>\n    </tr>\n    <tr>\n      <th>Rail</th>\n      <th>Exports</th>\n      <td>34505043000</td>\n    </tr>\n    <tr>\n      <th>Air</th>\n      <th>Exports</th>\n      <td>32785147000</td>\n    </tr>\n    <tr>\n      <th>Road</th>\n      <th>Exports</th>\n      <td>27280486000</td>\n    </tr>\n    <tr>\n      <th>Rail</th>\n      <th>Imports</th>\n      <td>9123000000</td>\n    </tr>\n    <tr>\n      <th>Road</th>\n      <th>Imports</th>\n      <td>5990000000</td>\n    </tr>\n    <tr>\n      <th>Air</th>\n      <th>Imports</th>\n      <td>5477000000</td>\n    </tr>\n  </tbody>\n</table>\n</div>"
     },
     "execution_count": 63,
     "metadata": {},
     "output_type": "execute_result"
    }
   ],
   "source": [
    "option_2_df =  synergy_logistics_info_df.copy()\n",
    "option_2_df = option_2_df[['transport_mode', 'direction', 'total_value']]\n",
    "option_2_df.groupby(['transport_mode', 'direction']).sum().sort_values(by='total_value', ascending=False)"
   ]
  },
  {
   "cell_type": "code",
   "execution_count": 60,
   "outputs": [
    {
     "data": {
      "text/plain": "                 total_value\ntransport_mode              \nSea             100530622000\nRail             43628043000\nAir              38262147000\nRoad             33270486000",
      "text/html": "<div>\n<style scoped>\n    .dataframe tbody tr th:only-of-type {\n        vertical-align: middle;\n    }\n\n    .dataframe tbody tr th {\n        vertical-align: top;\n    }\n\n    .dataframe thead th {\n        text-align: right;\n    }\n</style>\n<table border=\"1\" class=\"dataframe\">\n  <thead>\n    <tr style=\"text-align: right;\">\n      <th></th>\n      <th>total_value</th>\n    </tr>\n    <tr>\n      <th>transport_mode</th>\n      <th></th>\n    </tr>\n  </thead>\n  <tbody>\n    <tr>\n      <th>Sea</th>\n      <td>100530622000</td>\n    </tr>\n    <tr>\n      <th>Rail</th>\n      <td>43628043000</td>\n    </tr>\n    <tr>\n      <th>Air</th>\n      <td>38262147000</td>\n    </tr>\n    <tr>\n      <th>Road</th>\n      <td>33270486000</td>\n    </tr>\n  </tbody>\n</table>\n</div>"
     },
     "execution_count": 60,
     "metadata": {},
     "output_type": "execute_result"
    }
   ],
   "source": [
    "option_2_df.groupby(['transport_mode']).sum().sort_values(by='total_value', ascending=False)"
   ],
   "metadata": {
    "collapsed": false,
    "pycharm": {
     "name": "#%%\n"
    }
   }
  },
  {
   "cell_type": "markdown",
   "metadata": {},
   "source": [
    "# Option 3 .- Total value imports and exports\n",
    "## Get the countries that give 80% of revenue "
   ]
  },
  {
   "cell_type": "code",
   "execution_count": 45,
   "metadata": {},
   "outputs": [],
   "source": [
    "option_3_df =  synergy_logistics_info_df.copy()\n",
    "\n",
    "# We will get the origin or destination and create a new column based on that\n",
    "option_3_df['country'] = option_3_df.apply(lambda row : row['origin'] if row['direction'] == 'Exports' else row['destination'], axis=1)\n",
    "option_3_df = option_3_df[['country', 'total_value']]\n",
    "option_3_df = option_3_df.groupby('country').sum()\n",
    "option_3_df = option_3_df.sort_values(by='total_value', ascending=False)\n",
    "option_3_df['cumulative_percentage'] = 100 * option_3_df['total_value'].cumsum()/option_3_df['total_value'].sum()\n",
    "option_3_df.where(option_3_df['cumulative_percentage']<82).dropna()"
   ]
  },
  {
   "cell_type": "code",
   "execution_count": 47,
   "metadata": {},
   "outputs": [],
   "source": []
  },
  {
   "cell_type": "code",
   "execution_count": 50,
   "metadata": {},
   "outputs": [],
   "source": [
    "option_3_df = option_3_df.groupby('country').sum()\n",
    "option_3_df = option_3_df.sort_values(by='total_value', ascending=False)"
   ]
  },
  {
   "cell_type": "code",
   "execution_count": 52,
   "metadata": {},
   "outputs": [],
   "source": [
    "option_3_df['cumulative_percentage'] = 100 * option_3_df['total_value'].cumsum()/option_3_df['total_value'].sum()"
   ]
  },
  {
   "cell_type": "code",
   "execution_count": 58,
   "metadata": {},
   "outputs": [
    {
     "data": {
      "text/html": [
       "<div>\n",
       "<style scoped>\n",
       "    .dataframe tbody tr th:only-of-type {\n",
       "        vertical-align: middle;\n",
       "    }\n",
       "\n",
       "    .dataframe tbody tr th {\n",
       "        vertical-align: top;\n",
       "    }\n",
       "\n",
       "    .dataframe thead th {\n",
       "        text-align: right;\n",
       "    }\n",
       "</style>\n",
       "<table border=\"1\" class=\"dataframe\">\n",
       "  <thead>\n",
       "    <tr style=\"text-align: right;\">\n",
       "      <th></th>\n",
       "      <th>total_value</th>\n",
       "      <th>cumulative_percentage</th>\n",
       "    </tr>\n",
       "    <tr>\n",
       "      <th>country</th>\n",
       "      <th></th>\n",
       "      <th></th>\n",
       "    </tr>\n",
       "  </thead>\n",
       "  <tbody>\n",
       "    <tr>\n",
       "      <th>China</th>\n",
       "      <td>3.554905e+10</td>\n",
       "      <td>16.481447</td>\n",
       "    </tr>\n",
       "    <tr>\n",
       "      <th>USA</th>\n",
       "      <td>2.211331e+10</td>\n",
       "      <td>26.733741</td>\n",
       "    </tr>\n",
       "    <tr>\n",
       "      <th>France</th>\n",
       "      <td>1.861433e+10</td>\n",
       "      <td>35.363821</td>\n",
       "    </tr>\n",
       "    <tr>\n",
       "      <th>Japan</th>\n",
       "      <td>1.777698e+10</td>\n",
       "      <td>43.605681</td>\n",
       "    </tr>\n",
       "    <tr>\n",
       "      <th>Germany</th>\n",
       "      <td>1.645223e+10</td>\n",
       "      <td>51.233357</td>\n",
       "    </tr>\n",
       "    <tr>\n",
       "      <th>South Korea</th>\n",
       "      <td>1.462115e+10</td>\n",
       "      <td>58.012094</td>\n",
       "    </tr>\n",
       "    <tr>\n",
       "      <th>Thailand</th>\n",
       "      <td>1.374500e+10</td>\n",
       "      <td>64.384628</td>\n",
       "    </tr>\n",
       "    <tr>\n",
       "      <th>Russia</th>\n",
       "      <td>1.322300e+10</td>\n",
       "      <td>70.515148</td>\n",
       "    </tr>\n",
       "    <tr>\n",
       "      <th>Canada</th>\n",
       "      <td>1.173600e+10</td>\n",
       "      <td>75.956258</td>\n",
       "    </tr>\n",
       "    <tr>\n",
       "      <th>Mexico</th>\n",
       "      <td>1.031376e+10</td>\n",
       "      <td>80.737979</td>\n",
       "    </tr>\n",
       "  </tbody>\n",
       "</table>\n",
       "</div>"
      ],
      "text/plain": [
       "              total_value  cumulative_percentage\n",
       "country                                         \n",
       "China        3.554905e+10              16.481447\n",
       "USA          2.211331e+10              26.733741\n",
       "France       1.861433e+10              35.363821\n",
       "Japan        1.777698e+10              43.605681\n",
       "Germany      1.645223e+10              51.233357\n",
       "South Korea  1.462115e+10              58.012094\n",
       "Thailand     1.374500e+10              64.384628\n",
       "Russia       1.322300e+10              70.515148\n",
       "Canada       1.173600e+10              75.956258\n",
       "Mexico       1.031376e+10              80.737979"
      ]
     },
     "execution_count": 58,
     "metadata": {},
     "output_type": "execute_result"
    }
   ],
   "source": [
    "option_3_df.where(option_3_df['cumulative_percentage']<82).dropna()"
   ]
  },
  {
   "cell_type": "code",
   "execution_count": null,
   "metadata": {},
   "outputs": [],
   "source": []
  }
 ],
 "metadata": {
  "kernelspec": {
   "display_name": "Python 3",
   "language": "python",
   "name": "python3"
  },
  "language_info": {
   "codemirror_mode": {
    "name": "ipython",
    "version": 3
   },
   "file_extension": ".py",
   "mimetype": "text/x-python",
   "name": "python",
   "nbconvert_exporter": "python",
   "pygments_lexer": "ipython3",
   "version": "3.8.5"
  }
 },
 "nbformat": 4,
 "nbformat_minor": 1
}